{
 "cells": [
  {
   "cell_type": "code",
   "execution_count": 3,
   "id": "a7810c1d-6b6b-4eb3-b230-075b0786ba38",
   "metadata": {},
   "outputs": [
    {
     "name": "stdin",
     "output_type": "stream",
     "text": [
      "enter a number H 3\n",
      "enter a number B 5\n"
     ]
    },
    {
     "data": {
      "text/plain": [
       "7.5"
      ]
     },
     "execution_count": 3,
     "metadata": {},
     "output_type": "execute_result"
    }
   ],
   "source": [
    "def area(b,h):\n",
    "    return(1/2*(b*h))\n",
    "h=int(input(\"enter a number H\"))\n",
    "b=int(input(\"enter a number B\"))\n",
    "\n",
    "area(b,h)"
   ]
  },
  {
   "cell_type": "code",
   "execution_count": null,
   "id": "a2aff948-ea0b-4b8f-ab75-b71b3c147d1e",
   "metadata": {},
   "outputs": [],
   "source": []
  }
 ],
 "metadata": {
  "kernelspec": {
   "display_name": "Python 3 (ipykernel)",
   "language": "python",
   "name": "python3"
  },
  "language_info": {
   "codemirror_mode": {
    "name": "ipython",
    "version": 3
   },
   "file_extension": ".py",
   "mimetype": "text/x-python",
   "name": "python",
   "nbconvert_exporter": "python",
   "pygments_lexer": "ipython3",
   "version": "3.11.7"
  }
 },
 "nbformat": 4,
 "nbformat_minor": 5
}
